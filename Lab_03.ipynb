{
  "nbformat": 4,
  "nbformat_minor": 0,
  "metadata": {
    "colab": {
      "provenance": [],
      "authorship_tag": "ABX9TyNhOCSbI2ZWF+GhTCeLGbXZ",
      "include_colab_link": true
    },
    "kernelspec": {
      "name": "python3",
      "display_name": "Python 3"
    },
    "language_info": {
      "name": "python"
    }
  },
  "cells": [
    {
      "cell_type": "markdown",
      "metadata": {
        "id": "view-in-github",
        "colab_type": "text"
      },
      "source": [
        "<a href=\"https://colab.research.google.com/github/tabraiz-1768/AIML-2025/blob/main/Lab_03.ipynb\" target=\"_parent\"><img src=\"https://colab.research.google.com/assets/colab-badge.svg\" alt=\"Open In Colab\"/></a>"
      ]
    },
    {
      "cell_type": "markdown",
      "source": [
        "# Part 01: List of tasks to Perform\n",
        "1. Install the Python Libraries for Game Stragtegy\n",
        "2. Implement a Game Class Constructor with actions, is_terminal, result\n",
        "3. implement a TicTocToe Player Game using game class function"
      ],
      "metadata": {
        "id": "_XQorMljXyYM"
      }
    },
    {
      "cell_type": "code",
      "source": [
        "from collections import namedtuple, Counter, defaultdict\n",
        "import random\n",
        "import math\n",
        "import functools\n",
        "cache = functools.lru_cache(10**6)"
      ],
      "metadata": {
        "id": "2p4mPNH-YeA-"
      },
      "execution_count": null,
      "outputs": []
    },
    {
      "cell_type": "code",
      "source": [
        "class Game:\n",
        "  \"\"\"A game is similar to a problem,but it has a terminal test a goal test, and a utility for each terminal state. To create subclass this class will implement\"\"\"\n",
        "\n",
        "\n",
        "\n",
        "def actions (self , state ):\n",
        "#Return a collection of the allowable moves from this state .\n",
        "  raise NotImplementedError\n",
        "def result (self , state , move ):\n",
        "#Return the state that results from making a move from a state .\n",
        "  raise NotImplementedError\n",
        "def is_terminal (self , state ):\n",
        "#Return True if this is a final state for the game.”””\n",
        "  return not self.actions (state)\n",
        "def utility (self , state , player ):\n",
        "#Return the value of this final state to player.”””\n",
        " raise NotImplementedError\n"
      ],
      "metadata": {
        "id": "__8uA2uUYvaW"
      },
      "execution_count": null,
      "outputs": []
    },
    {
      "cell_type": "markdown",
      "source": [],
      "metadata": {
        "id": "koSwNRl0Xsru"
      }
    }
  ]
}